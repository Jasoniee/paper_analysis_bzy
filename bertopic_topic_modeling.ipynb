{
 "cells": [
  {
   "cell_type": "markdown",
   "id": "d89c8e48",
   "metadata": {},
   "source": [
    "# Topic Modeling with BERTopic on Children's Career Development Literature\n",
    "This notebook performs topic modeling using BERTopic and addresses the following research questions:\n",
    "\n",
    "1. What specific topics have emerged from the empirical literature on children's career development, and what terms are associated with each topic?\n",
    "2. How have these topics changed over time?\n",
    "3. Which topics show increasing or decreasing trends, and which remain consistently popular?\n"
   ]
  },
  {
   "cell_type": "code",
   "execution_count": 1,
   "id": "84a62110",
   "metadata": {},
   "outputs": [
    {
     "name": "stderr",
     "output_type": "stream",
     "text": [
      "/opt/miniconda3/envs/bzy/lib/python3.10/site-packages/tqdm/auto.py:21: TqdmWarning: IProgress not found. Please update jupyter and ipywidgets. See https://ipywidgets.readthedocs.io/en/stable/user_install.html\n",
      "  from .autonotebook import tqdm as notebook_tqdm\n"
     ]
    }
   ],
   "source": [
    "# Import necessary libraries\n",
    "from bertopic import BERTopic\n",
    "from sklearn.feature_extraction.text import CountVectorizer\n",
    "from sklearn.datasets import fetch_20newsgroups\n",
    "import pandas as pd\n",
    "import matplotlib.pyplot as plt\n",
    "import random\n",
    "from datetime import datetime\n"
   ]
  },
  {
   "cell_type": "code",
   "execution_count": null,
   "id": "bae55b05",
   "metadata": {},
   "outputs": [
    {
     "ename": "",
     "evalue": "",
     "output_type": "error",
     "traceback": [
      "\u001b[1;31mThe Kernel crashed while executing code in the current cell or a previous cell. \n",
      "\u001b[1;31mPlease review the code in the cell(s) to identify a possible cause of the failure. \n",
      "\u001b[1;31mClick <a href='https://aka.ms/vscodeJupyterKernelCrash'>here</a> for more info. \n",
      "\u001b[1;31mView Jupyter <a href='command:jupyter.viewOutput'>log</a> for further details."
     ]
    }
   ],
   "source": [
    "# Load data\n",
    "file_path = 'Topic Modeling Articles_0601.xlsx'\n",
    "df = pd.read_excel(file_path, sheet_name='Topic Modeling Articles')\n",
    "\n",
    "# Combine title and abstract into one text field\n",
    "df['text'] = df['Title'].fillna('') + ' ' + df['Abstract Note'].fillna('')\n",
    "\n",
    "# Ensure 'Date' exists and is numeric (e.g., year)\n",
    "df['Year'] = pd.to_datetime(df['Date'], errors='coerce').dt.year\n",
    "df = df.dropna(subset=['Year', 'text'])  # Drop rows with missing year or text"
   ]
  },
  {
   "cell_type": "code",
   "execution_count": null,
   "id": "8efbd04e",
   "metadata": {},
   "outputs": [
    {
     "name": "stderr",
     "output_type": "stream",
     "text": [
      "2025-07-25 16:57:17,758 - BERTopic - Embedding - Transforming documents to embeddings.\n",
      "Batches: 100%|██████████| 4/4 [00:01<00:00,  2.31it/s]\n",
      "2025-07-25 16:57:19,546 - BERTopic - Embedding - Completed ✓\n",
      "2025-07-25 16:57:19,547 - BERTopic - Dimensionality - Fitting the dimensionality reduction algorithm\n",
      "OMP: Info #276: omp_set_nested routine deprecated, please use omp_set_max_active_levels instead.\n"
     ]
    }
   ],
   "source": [
    "import os\n",
    "os.environ[\"OMP_NUM_THREADS\"] = \"1\"\n",
    "from bertopic import BERTopic\n",
    "from sentence_transformers import SentenceTransformer\n",
    "\n",
    "# Use a BERT embedding model (you can change to 'all-mpnet-base-v2' or 'paraphrase-MiniLM-L6-v2')\n",
    "embedding_model = SentenceTransformer(\"all-MiniLM-L6-v2\")\n",
    "\n",
    "# Fit BERTopic model\n",
    "topic_model = BERTopic(embedding_model=embedding_model,verbose=True,low_memory = True)\n",
    "topics, probs = topic_model.fit_transform(df['text'].tolist())"
   ]
  },
  {
   "cell_type": "code",
   "execution_count": null,
   "id": "eb7e903d",
   "metadata": {},
   "outputs": [],
   "source": [
    "# Question 1: What specific topics and terms emerged?\n",
    "topic_info = topic_model.get_topic_info()\n",
    "topic_info.head()"
   ]
  },
  {
   "cell_type": "code",
   "execution_count": null,
   "id": "c246ff8b",
   "metadata": {},
   "outputs": [],
   "source": [
    "# Question 2: How do topics change over time?\n",
    "# Prepare time series data\n",
    "topic_model.visualize_topics_over_time(docs, topics, timestamps=dates)"
   ]
  },
  {
   "cell_type": "code",
   "execution_count": null,
   "id": "e910a6e3",
   "metadata": {},
   "outputs": [],
   "source": [
    "# Question 3: Identify increasing, decreasing, and stable topics\n",
    "# Aggregate topic frequency by year\n",
    "df = pd.DataFrame({'Year': dates, 'Topic': topics})\n",
    "trend = df.groupby(['Year', 'Topic']).size().unstack(fill_value=0)\n",
    "trend.plot(figsize=(12, 6), title='Topic Trends Over Time')\n",
    "plt.ylabel('Document Count')\n",
    "plt.xlabel('Year')\n",
    "plt.grid(True)\n",
    "plt.show()"
   ]
  }
 ],
 "metadata": {
  "kernelspec": {
   "display_name": "bzy",
   "language": "python",
   "name": "python3"
  },
  "language_info": {
   "codemirror_mode": {
    "name": "ipython",
    "version": 3
   },
   "file_extension": ".py",
   "mimetype": "text/x-python",
   "name": "python",
   "nbconvert_exporter": "python",
   "pygments_lexer": "ipython3",
   "version": "3.10.18"
  }
 },
 "nbformat": 4,
 "nbformat_minor": 5
}
